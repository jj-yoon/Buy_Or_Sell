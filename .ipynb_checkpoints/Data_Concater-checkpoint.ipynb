{
 "cells": [
  {
   "cell_type": "markdown",
   "metadata": {},
   "source": [
    "# Timeseries Pandas Dataframe Concater\n",
    "<i>This notebook will combine multiple files of sliced data from single directory into one large file. The large file will then be cleaned so that the data is uniform (no gaps, no missing values, and no repetitive data). The resulting file will be exported into the working directory."
   ]
  },
  {
   "cell_type": "code",
   "execution_count": 1,
   "metadata": {
    "ExecuteTime": {
     "end_time": "2021-07-17T16:43:24.408799Z",
     "start_time": "2021-07-17T16:43:23.718370Z"
    }
   },
   "outputs": [],
   "source": [
    "# Importing Necessary Libraries\n",
    "import os\n",
    "import numpy as np\n",
    "import pandas as pd"
   ]
  },
  {
   "cell_type": "code",
   "execution_count": 2,
   "metadata": {
    "ExecuteTime": {
     "end_time": "2021-07-17T16:43:24.424694Z",
     "start_time": "2021-07-17T16:43:24.410637Z"
    }
   },
   "outputs": [],
   "source": [
    "# Data Directory\n",
    "path = 'archive/'\n",
    "path_files = os.listdir(path)\n",
    "\n",
    "# # Check\n",
    "# print(len(path_files), 'Files in Directory')\n",
    "# path_files"
   ]
  },
  {
   "cell_type": "code",
   "execution_count": 3,
   "metadata": {
    "ExecuteTime": {
     "end_time": "2021-07-17T16:43:26.409278Z",
     "start_time": "2021-07-17T16:43:24.426637Z"
    }
   },
   "outputs": [],
   "source": [
    "# Loading Files in Directory into Dataframes\n",
    "frames = []\n",
    "for file in path_files:\n",
    "    frames.append(pd.read_csv(path + file))\n",
    "\n",
    "# # Check\n",
    "# frames[0]"
   ]
  },
  {
   "cell_type": "code",
   "execution_count": 4,
   "metadata": {
    "ExecuteTime": {
     "end_time": "2021-07-17T16:43:26.425065Z",
     "start_time": "2021-07-17T16:43:26.411925Z"
    }
   },
   "outputs": [],
   "source": [
    "# Find Time_Related Column for dtypes not in pandas.datetime\n",
    "'''Edit me later for all Time_Related headings'''\n",
    "for column in frames[0].columns:\n",
    "    if 'time' in column:\n",
    "        t_col = column\n",
    "    else:\n",
    "        pass\n",
    "\n",
    "# # Check\n",
    "# t_col"
   ]
  },
  {
   "cell_type": "code",
   "execution_count": 5,
   "metadata": {
    "ExecuteTime": {
     "end_time": "2021-07-17T16:43:27.896398Z",
     "start_time": "2021-07-17T16:43:26.427133Z"
    }
   },
   "outputs": [],
   "source": [
    "# Convert Time_Related Column to pandas.datetime Object\n",
    "'''Edit me later to combine both date and time'''\n",
    "for frame in frames:\n",
    "    frame[t_col] = pd.to_datetime(frame[t_col])\n",
    "\n",
    "# # Check\n",
    "# frames[0].info()"
   ]
  },
  {
   "cell_type": "code",
   "execution_count": 6,
   "metadata": {
    "ExecuteTime": {
     "end_time": "2021-07-17T16:43:27.926383Z",
     "start_time": "2021-07-17T16:43:27.901065Z"
    }
   },
   "outputs": [],
   "source": [
    "# Set Time-Related Column as Index\n",
    "for frame in frames:\n",
    "    frame.set_index(t_col, inplace=True)\n",
    "\n",
    "# # Check\n",
    "# frames[0].info()"
   ]
  },
  {
   "cell_type": "code",
   "execution_count": 7,
   "metadata": {
    "ExecuteTime": {
     "end_time": "2021-07-17T16:43:27.987420Z",
     "start_time": "2021-07-17T16:43:27.930615Z"
    }
   },
   "outputs": [],
   "source": [
    "# Combining Dataframes into One Large Dataframe\n",
    "df = pd.concat(frames)\n",
    "\n",
    "# # Check\n",
    "# length = 0\n",
    "# for frame in frames:\n",
    "#     length = length + len(frame)\n",
    "# len(df) == length"
   ]
  },
  {
   "cell_type": "code",
   "execution_count": 8,
   "metadata": {
    "ExecuteTime": {
     "end_time": "2021-07-17T16:43:28.223627Z",
     "start_time": "2021-07-17T16:43:27.990319Z"
    }
   },
   "outputs": [],
   "source": [
    "# Reordering Large Dataframe\n",
    "df.sort_index(inplace=True)"
   ]
  },
  {
   "cell_type": "code",
   "execution_count": 9,
   "metadata": {
    "ExecuteTime": {
     "end_time": "2021-07-17T16:43:32.217175Z",
     "start_time": "2021-07-17T16:43:28.228447Z"
    }
   },
   "outputs": [
    {
     "name": "stdout",
     "output_type": "stream",
     "text": [
      "            open  high   low  close  tick_volume\n",
      "time                                            \n",
      "2011-03-20  0.83   0.9  0.82   0.89        18828\n",
      "2011-03-24  0.83   0.9  0.82   0.87        14009\n",
      "2011-03-24  0.83   0.9  0.82   0.87        14009\n",
      "2011-03-24  0.83   0.9  0.82   0.87        14009\n",
      "2011-03-24  0.83   0.9  0.82   0.87        14009\n",
      "                         open      high       low     close  tick_volume\n",
      "time                                                                    \n",
      "2021-06-15 16:00:00  40406.24  40419.24  40281.05  40291.96          672\n",
      "2021-06-15 16:00:00  40406.24  40419.24  40150.14  40265.89         3997\n",
      "2021-06-15 16:00:00  40406.24  40419.24  40206.39  40230.64         1981\n",
      "2021-06-15 16:00:00  40406.24  40419.24  39704.99  40186.89        27306\n",
      "2021-06-15 16:00:00  40406.24  40419.24  40150.14  40282.89         7118\n",
      "open      high      low       close     tick_volume\n",
      "7349.00   7349.00   7349.00   7349.00   1              198\n",
      "7675.00   7675.00   7675.00   7675.00   1               83\n",
      "7424.50   7424.50   7424.50   7424.50   1               71\n",
      "7341.00   7341.00   7341.00   7341.00   1               71\n",
      "7326.00   7326.00   7326.00   7326.00   1               70\n",
      "                                                      ... \n",
      "10161.79  10187.29  10141.79  10146.79  25865            1\n",
      "                    10151.29  10182.79  8955             1\n",
      "          10188.29  10158.79  10185.29  8955             1\n",
      "          10225.29  10129.29  10184.29  102460           1\n",
      "0.00      8456.05   0.00      8456.05   845606           1\n",
      "Length: 2122329, dtype: int64\n",
      "open           0\n",
      "high           0\n",
      "low            0\n",
      "close          0\n",
      "tick_volume    0\n",
      "dtype: int64\n",
      "length = 2166732\n"
     ]
    }
   ],
   "source": [
    "# Checking Dataframe Content\n",
    "print(df.head())\n",
    "print(df.tail())\n",
    "print(df.value_counts())\n",
    "print(df.isna().sum())\n",
    "print ('length =', len(df))"
   ]
  },
  {
   "cell_type": "markdown",
   "metadata": {},
   "source": [
    "<i>Dataframe Content <b>Notes:</b></i>\n",
    "1. Some days are skipped --> Find a way to look for skipped dates.\n",
    "2. Duplicates present --> Find a way to look for duplicates.\n",
    "3. Same day, different values --> Find a way to look for days with multiple timestamps or varied values.\n",
    "Unvaried data due to collection, but also good to note that cryptocurrency market is 24/7 so day close becomes day open."
   ]
  },
  {
   "cell_type": "code",
   "execution_count": 10,
   "metadata": {
    "ExecuteTime": {
     "end_time": "2021-07-17T16:43:32.796689Z",
     "start_time": "2021-07-17T16:43:32.222181Z"
    }
   },
   "outputs": [],
   "source": [
    "# Resampling Dataframe\n",
    "# Method automatically removes duplicates.\n",
    "# Save first value if applicable (Taken @ 00:00:00 Timestamp).\n",
    "# Backwards fill any missing data.\n",
    "DF = df.resample('D').first().bfill().ffill()\n",
    "\n",
    "# # Check\n",
    "# '''Edit this check after addressing DataFrame Content Notes'''\n",
    "# print ('length =', len(df))"
   ]
  },
  {
   "cell_type": "code",
   "execution_count": 11,
   "metadata": {
    "ExecuteTime": {
     "end_time": "2021-07-17T16:43:32.812811Z",
     "start_time": "2021-07-17T16:43:32.801600Z"
    }
   },
   "outputs": [],
   "source": [
    "# # Export Dataframe into working directory\n",
    "# DF.to_csv('data.csv')"
   ]
  }
 ],
 "metadata": {
  "kernelspec": {
   "display_name": "old-learn-env",
   "language": "python",
   "name": "old-learn-env"
  },
  "language_info": {
   "codemirror_mode": {
    "name": "ipython",
    "version": 3
   },
   "file_extension": ".py",
   "mimetype": "text/x-python",
   "name": "python",
   "nbconvert_exporter": "python",
   "pygments_lexer": "ipython3",
   "version": "3.8.5"
  }
 },
 "nbformat": 4,
 "nbformat_minor": 4
}
