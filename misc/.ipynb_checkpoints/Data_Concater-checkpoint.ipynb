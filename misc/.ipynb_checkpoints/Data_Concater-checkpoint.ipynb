{
 "cells": [
  {
   "cell_type": "markdown",
   "metadata": {},
   "source": [
    "# Timeseries Pandas Dataframe Concater\n",
    "<i>Combine multiple files of sliced data from single directory into one large Pandas DataFrame. Clean the amalgamated DataFrame to make the data uniform (no time gaps, no missing values, and no repetitive rows). Export finalized DataFrame as a .csv file into the working directory.</i>"
   ]
  },
  {
   "cell_type": "code",
   "execution_count": 1,
   "metadata": {
    "ExecuteTime": {
     "end_time": "2021-07-25T20:56:20.055711Z",
     "start_time": "2021-07-25T20:56:18.530458Z"
    }
   },
   "outputs": [],
   "source": [
    "# Import Necessary Libraries\n",
    "import os\n",
    "import numpy as np\n",
    "import pandas as pd"
   ]
  },
  {
   "cell_type": "code",
   "execution_count": 2,
   "metadata": {
    "ExecuteTime": {
     "end_time": "2021-07-25T20:56:20.164206Z",
     "start_time": "2021-07-25T20:56:20.150112Z"
    }
   },
   "outputs": [
    {
     "name": "stdout",
     "output_type": "stream",
     "text": [
      "C:\\Users\\Jessica Yoon\\Flatiron\\Capstone\n"
     ]
    }
   ],
   "source": [
    "# Change Current Working Directory to the Root Directory\n",
    "\n",
    "# First find current path.\n",
    "current_path = os.getcwd()\n",
    "\n",
    "# Find the path of the Root Directory from the Current Working Directory\n",
    "# Current Working Directory was made inside Root Directory\n",
    "terminator = current_path.rfind('\\\\')\n",
    "root_path = current_path[:terminator]\n",
    "\n",
    "# Changing the Working Directory\n",
    "os.chdir(root_path)\n",
    "\n",
    "# Check\n",
    "print(os.getcwd())"
   ]
  },
  {
   "cell_type": "code",
   "execution_count": 3,
   "metadata": {
    "ExecuteTime": {
     "end_time": "2021-07-25T20:56:46.220350Z",
     "start_time": "2021-07-25T20:56:46.190050Z"
    }
   },
   "outputs": [
    {
     "name": "stdout",
     "output_type": "stream",
     "text": [
      "8 Files in Directory\n"
     ]
    },
    {
     "data": {
      "text/plain": [
       "['BTCUSD_1.csv',\n",
       " 'BTCUSD_10080.csv',\n",
       " 'BTCUSD_1440.csv',\n",
       " 'BTCUSD_15.csv',\n",
       " 'BTCUSD_240.csv',\n",
       " 'BTCUSD_30.csv',\n",
       " 'BTCUSD_5.csv',\n",
       " 'BTCUSD_60.csv']"
      ]
     },
     "execution_count": 3,
     "metadata": {},
     "output_type": "execute_result"
    }
   ],
   "source": [
    "# Data Directory\n",
    "path = 'archive/'\n",
    "path_files = os.listdir(path)\n",
    "\n",
    "# Check\n",
    "print(len(path_files), 'Files in Directory')\n",
    "path_files"
   ]
  },
  {
   "cell_type": "code",
   "execution_count": 4,
   "metadata": {
    "ExecuteTime": {
     "end_time": "2021-07-25T20:57:00.713800Z",
     "start_time": "2021-07-25T20:56:55.740215Z"
    }
   },
   "outputs": [
    {
     "data": {
      "text/html": [
       "<div>\n",
       "<style scoped>\n",
       "    .dataframe tbody tr th:only-of-type {\n",
       "        vertical-align: middle;\n",
       "    }\n",
       "\n",
       "    .dataframe tbody tr th {\n",
       "        vertical-align: top;\n",
       "    }\n",
       "\n",
       "    .dataframe thead th {\n",
       "        text-align: right;\n",
       "    }\n",
       "</style>\n",
       "<table border=\"1\" class=\"dataframe\">\n",
       "  <thead>\n",
       "    <tr style=\"text-align: right;\">\n",
       "      <th></th>\n",
       "      <th>time</th>\n",
       "      <th>open</th>\n",
       "      <th>high</th>\n",
       "      <th>low</th>\n",
       "      <th>close</th>\n",
       "      <th>tick_volume</th>\n",
       "    </tr>\n",
       "  </thead>\n",
       "  <tbody>\n",
       "    <tr>\n",
       "      <th>0</th>\n",
       "      <td>2011-03-24 00:00:00</td>\n",
       "      <td>0.83</td>\n",
       "      <td>0.90</td>\n",
       "      <td>0.82</td>\n",
       "      <td>0.87</td>\n",
       "      <td>14009</td>\n",
       "    </tr>\n",
       "    <tr>\n",
       "      <th>1</th>\n",
       "      <td>2011-03-25 00:00:00</td>\n",
       "      <td>0.87</td>\n",
       "      <td>0.89</td>\n",
       "      <td>0.86</td>\n",
       "      <td>0.89</td>\n",
       "      <td>4819</td>\n",
       "    </tr>\n",
       "    <tr>\n",
       "      <th>2</th>\n",
       "      <td>2011-03-28 00:00:00</td>\n",
       "      <td>0.82</td>\n",
       "      <td>0.85</td>\n",
       "      <td>0.76</td>\n",
       "      <td>0.80</td>\n",
       "      <td>12565</td>\n",
       "    </tr>\n",
       "    <tr>\n",
       "      <th>3</th>\n",
       "      <td>2011-03-29 00:00:00</td>\n",
       "      <td>0.80</td>\n",
       "      <td>0.80</td>\n",
       "      <td>0.77</td>\n",
       "      <td>0.79</td>\n",
       "      <td>4215</td>\n",
       "    </tr>\n",
       "    <tr>\n",
       "      <th>4</th>\n",
       "      <td>2011-03-30 00:00:00</td>\n",
       "      <td>0.79</td>\n",
       "      <td>0.79</td>\n",
       "      <td>0.76</td>\n",
       "      <td>0.79</td>\n",
       "      <td>3218</td>\n",
       "    </tr>\n",
       "    <tr>\n",
       "      <th>...</th>\n",
       "      <td>...</td>\n",
       "      <td>...</td>\n",
       "      <td>...</td>\n",
       "      <td>...</td>\n",
       "      <td>...</td>\n",
       "      <td>...</td>\n",
       "    </tr>\n",
       "    <tr>\n",
       "      <th>1629294</th>\n",
       "      <td>2021-06-15 15:56:00</td>\n",
       "      <td>40271.14</td>\n",
       "      <td>40271.64</td>\n",
       "      <td>40227.39</td>\n",
       "      <td>40251.14</td>\n",
       "      <td>154</td>\n",
       "    </tr>\n",
       "    <tr>\n",
       "      <th>1629295</th>\n",
       "      <td>2021-06-15 15:57:00</td>\n",
       "      <td>40256.86</td>\n",
       "      <td>40326.39</td>\n",
       "      <td>40245.86</td>\n",
       "      <td>40308.39</td>\n",
       "      <td>158</td>\n",
       "    </tr>\n",
       "    <tr>\n",
       "      <th>1629296</th>\n",
       "      <td>2021-06-15 15:58:00</td>\n",
       "      <td>40312.14</td>\n",
       "      <td>40383.64</td>\n",
       "      <td>40273.96</td>\n",
       "      <td>40345.39</td>\n",
       "      <td>166</td>\n",
       "    </tr>\n",
       "    <tr>\n",
       "      <th>1629297</th>\n",
       "      <td>2021-06-15 15:59:00</td>\n",
       "      <td>40346.36</td>\n",
       "      <td>40453.74</td>\n",
       "      <td>40327.36</td>\n",
       "      <td>40406.24</td>\n",
       "      <td>131</td>\n",
       "    </tr>\n",
       "    <tr>\n",
       "      <th>1629298</th>\n",
       "      <td>2021-06-15 16:00:00</td>\n",
       "      <td>40406.24</td>\n",
       "      <td>40419.24</td>\n",
       "      <td>40325.75</td>\n",
       "      <td>40378.25</td>\n",
       "      <td>143</td>\n",
       "    </tr>\n",
       "  </tbody>\n",
       "</table>\n",
       "<p>1629299 rows × 6 columns</p>\n",
       "</div>"
      ],
      "text/plain": [
       "                        time      open      high       low     close  \\\n",
       "0        2011-03-24 00:00:00      0.83      0.90      0.82      0.87   \n",
       "1        2011-03-25 00:00:00      0.87      0.89      0.86      0.89   \n",
       "2        2011-03-28 00:00:00      0.82      0.85      0.76      0.80   \n",
       "3        2011-03-29 00:00:00      0.80      0.80      0.77      0.79   \n",
       "4        2011-03-30 00:00:00      0.79      0.79      0.76      0.79   \n",
       "...                      ...       ...       ...       ...       ...   \n",
       "1629294  2021-06-15 15:56:00  40271.14  40271.64  40227.39  40251.14   \n",
       "1629295  2021-06-15 15:57:00  40256.86  40326.39  40245.86  40308.39   \n",
       "1629296  2021-06-15 15:58:00  40312.14  40383.64  40273.96  40345.39   \n",
       "1629297  2021-06-15 15:59:00  40346.36  40453.74  40327.36  40406.24   \n",
       "1629298  2021-06-15 16:00:00  40406.24  40419.24  40325.75  40378.25   \n",
       "\n",
       "         tick_volume  \n",
       "0              14009  \n",
       "1               4819  \n",
       "2              12565  \n",
       "3               4215  \n",
       "4               3218  \n",
       "...              ...  \n",
       "1629294          154  \n",
       "1629295          158  \n",
       "1629296          166  \n",
       "1629297          131  \n",
       "1629298          143  \n",
       "\n",
       "[1629299 rows x 6 columns]"
      ]
     },
     "execution_count": 4,
     "metadata": {},
     "output_type": "execute_result"
    }
   ],
   "source": [
    "# Loading Files in Directory into Dataframes\n",
    "frames = []\n",
    "for file in path_files:\n",
    "    frames.append(pd.read_csv(path + file))\n",
    "\n",
    "# Check\n",
    "frames[0]"
   ]
  },
  {
   "cell_type": "code",
   "execution_count": 5,
   "metadata": {
    "ExecuteTime": {
     "end_time": "2021-07-25T20:57:09.379331Z",
     "start_time": "2021-07-25T20:57:09.371333Z"
    }
   },
   "outputs": [
    {
     "data": {
      "text/plain": [
       "'time'"
      ]
     },
     "execution_count": 5,
     "metadata": {},
     "output_type": "execute_result"
    }
   ],
   "source": [
    "# Find Time_Related Column for dtypes not in pandas.datetime\n",
    "'''Edit me later for all Time_Related headings'''\n",
    "for column in frames[0].columns:\n",
    "    if 'time' in column:\n",
    "        t_col = column\n",
    "    else:\n",
    "        pass\n",
    "\n",
    "# Check\n",
    "t_col"
   ]
  },
  {
   "cell_type": "code",
   "execution_count": 6,
   "metadata": {
    "ExecuteTime": {
     "end_time": "2021-07-25T20:57:35.543060Z",
     "start_time": "2021-07-25T20:57:32.088573Z"
    }
   },
   "outputs": [
    {
     "name": "stdout",
     "output_type": "stream",
     "text": [
      "<class 'pandas.core.frame.DataFrame'>\n",
      "RangeIndex: 1629299 entries, 0 to 1629298\n",
      "Data columns (total 6 columns):\n",
      " #   Column       Non-Null Count    Dtype         \n",
      "---  ------       --------------    -----         \n",
      " 0   time         1629299 non-null  datetime64[ns]\n",
      " 1   open         1629299 non-null  float64       \n",
      " 2   high         1629299 non-null  float64       \n",
      " 3   low          1629299 non-null  float64       \n",
      " 4   close        1629299 non-null  float64       \n",
      " 5   tick_volume  1629299 non-null  int64         \n",
      "dtypes: datetime64[ns](1), float64(4), int64(1)\n",
      "memory usage: 74.6 MB\n"
     ]
    }
   ],
   "source": [
    "# Convert Time_Related Column to pandas.datetime Object\n",
    "'''Edit me later to combine both date and time'''\n",
    "for frame in frames:\n",
    "    frame[t_col] = pd.to_datetime(frame[t_col])\n",
    "\n",
    "# Check\n",
    "frames[0].info()"
   ]
  },
  {
   "cell_type": "code",
   "execution_count": 7,
   "metadata": {
    "ExecuteTime": {
     "end_time": "2021-07-25T20:58:03.382621Z",
     "start_time": "2021-07-25T20:58:03.234615Z"
    }
   },
   "outputs": [
    {
     "name": "stdout",
     "output_type": "stream",
     "text": [
      "<class 'pandas.core.frame.DataFrame'>\n",
      "DatetimeIndex: 1629299 entries, 2011-03-24 00:00:00 to 2021-06-15 16:00:00\n",
      "Data columns (total 5 columns):\n",
      " #   Column       Non-Null Count    Dtype  \n",
      "---  ------       --------------    -----  \n",
      " 0   open         1629299 non-null  float64\n",
      " 1   high         1629299 non-null  float64\n",
      " 2   low          1629299 non-null  float64\n",
      " 3   close        1629299 non-null  float64\n",
      " 4   tick_volume  1629299 non-null  int64  \n",
      "dtypes: float64(4), int64(1)\n",
      "memory usage: 74.6 MB\n"
     ]
    }
   ],
   "source": [
    "# Set Time-Related Column as Index\n",
    "for frame in frames:\n",
    "    frame.set_index(t_col, inplace=True)\n",
    "\n",
    "# Check\n",
    "frames[0].info()"
   ]
  },
  {
   "cell_type": "code",
   "execution_count": 8,
   "metadata": {
    "ExecuteTime": {
     "end_time": "2021-07-25T20:58:12.665435Z",
     "start_time": "2021-07-25T20:58:12.601122Z"
    }
   },
   "outputs": [
    {
     "data": {
      "text/plain": [
       "True"
      ]
     },
     "execution_count": 8,
     "metadata": {},
     "output_type": "execute_result"
    }
   ],
   "source": [
    "# Combining Dataframes into One Large Dataframe\n",
    "df = pd.concat(frames)\n",
    "\n",
    "# Check\n",
    "length = 0\n",
    "for frame in frames:\n",
    "    length = length + len(frame)\n",
    "len(df) == length"
   ]
  },
  {
   "cell_type": "code",
   "execution_count": 9,
   "metadata": {
    "ExecuteTime": {
     "end_time": "2021-07-25T20:58:38.408263Z",
     "start_time": "2021-07-25T20:58:37.954603Z"
    }
   },
   "outputs": [],
   "source": [
    "# Reordering Large Dataframe\n",
    "df.sort_index(inplace=True)"
   ]
  },
  {
   "cell_type": "code",
   "execution_count": 10,
   "metadata": {
    "ExecuteTime": {
     "end_time": "2021-07-25T20:58:47.423531Z",
     "start_time": "2021-07-25T20:58:41.670091Z"
    }
   },
   "outputs": [
    {
     "name": "stdout",
     "output_type": "stream",
     "text": [
      "            open  high   low  close  tick_volume\n",
      "time                                            \n",
      "2011-03-20  0.83   0.9  0.82   0.89        18828\n",
      "2011-03-24  0.83   0.9  0.82   0.87        14009\n",
      "2011-03-24  0.83   0.9  0.82   0.87        14009\n",
      "2011-03-24  0.83   0.9  0.82   0.87        14009\n",
      "2011-03-24  0.83   0.9  0.82   0.87        14009\n",
      "                         open      high       low     close  tick_volume\n",
      "time                                                                    \n",
      "2021-06-15 16:00:00  40406.24  40419.24  40281.05  40291.96          672\n",
      "2021-06-15 16:00:00  40406.24  40419.24  40150.14  40265.89         3997\n",
      "2021-06-15 16:00:00  40406.24  40419.24  40206.39  40230.64         1981\n",
      "2021-06-15 16:00:00  40406.24  40419.24  39704.99  40186.89        27306\n",
      "2021-06-15 16:00:00  40406.24  40419.24  40150.14  40282.89         7118\n",
      "open      high      low       close     tick_volume\n",
      "7349.00   7349.00   7349.00   7349.00   1              198\n",
      "7675.00   7675.00   7675.00   7675.00   1               83\n",
      "7424.50   7424.50   7424.50   7424.50   1               71\n",
      "7341.00   7341.00   7341.00   7341.00   1               71\n",
      "7326.00   7326.00   7326.00   7326.00   1               70\n",
      "                                                      ... \n",
      "10161.79  10187.29  10141.79  10146.79  25865            1\n",
      "                    10151.29  10182.79  8955             1\n",
      "          10188.29  10158.79  10185.29  8955             1\n",
      "          10225.29  10129.29  10184.29  102460           1\n",
      "0.00      8456.05   0.00      8456.05   845606           1\n",
      "Length: 2122329, dtype: int64\n",
      "open           0\n",
      "high           0\n",
      "low            0\n",
      "close          0\n",
      "tick_volume    0\n",
      "dtype: int64\n",
      "length = 2166732\n"
     ]
    }
   ],
   "source": [
    "# Checking Dataframe Content\n",
    "print(df.head())\n",
    "print(df.tail())\n",
    "print(df.value_counts())\n",
    "print(df.isna().sum())\n",
    "print ('length =', len(df))"
   ]
  },
  {
   "cell_type": "markdown",
   "metadata": {},
   "source": [
    "<i>Dataframe Content <b>Notes:</b></i>\n",
    "1. Some days are skipped --> Find a way to look for skipped dates.\n",
    "2. Duplicates present --> Find a way to look for duplicates.\n",
    "3. Same day, different values --> Find a way to look for days with multiple timestamps or varied values.\n",
    "Unvaried data due to collection, but also good to note that cryptocurrency market is 24/7 so day close becomes day open."
   ]
  },
  {
   "cell_type": "code",
   "execution_count": 11,
   "metadata": {
    "ExecuteTime": {
     "end_time": "2021-07-25T21:00:30.999299Z",
     "start_time": "2021-07-25T21:00:30.392909Z"
    }
   },
   "outputs": [
    {
     "name": "stdout",
     "output_type": "stream",
     "text": [
      "length = 2166732\n"
     ]
    }
   ],
   "source": [
    "# Resampling Dataframe\n",
    "# Method automatically removes duplicates.\n",
    "# Save first value if applicable (Taken @ 00:00:00 Timestamp).\n",
    "# Backwards fill any missing data.\n",
    "DF = df.resample('D').first().bfill().ffill()\n",
    "\n",
    "# Check\n",
    "'''Edit this check after addressing DataFrame Content Notes'''\n",
    "print ('length =', len(df))"
   ]
  },
  {
   "cell_type": "code",
   "execution_count": 12,
   "metadata": {
    "ExecuteTime": {
     "end_time": "2021-07-25T21:01:22.493834Z",
     "start_time": "2021-07-25T21:01:22.346401Z"
    }
   },
   "outputs": [],
   "source": [
    "# Export Dataframe into working directory\n",
    "DF.to_csv('data.csv')"
   ]
  }
 ],
 "metadata": {
  "kernelspec": {
   "display_name": "old-learn-env",
   "language": "python",
   "name": "old-learn-env"
  },
  "language_info": {
   "codemirror_mode": {
    "name": "ipython",
    "version": 3
   },
   "file_extension": ".py",
   "mimetype": "text/x-python",
   "name": "python",
   "nbconvert_exporter": "python",
   "pygments_lexer": "ipython3",
   "version": "3.8.5"
  }
 },
 "nbformat": 4,
 "nbformat_minor": 4
}
