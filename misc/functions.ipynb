{
 "cells": [
  {
   "cell_type": "code",
   "execution_count": 1,
   "metadata": {
    "ExecuteTime": {
     "end_time": "2021-08-02T01:34:33.594770Z",
     "start_time": "2021-08-02T01:34:33.583771Z"
    }
   },
   "outputs": [],
   "source": [
    "def IndieFrames(dataframe):\n",
    "    \n",
    "    '''\n",
    "    Pass in a DataFrame with multiple columns.\n",
    "    Return a Dictionary of independent DataFrames.\n",
    "    '''\n",
    "    \n",
    "    var_names = []\n",
    "    for col in dataframe.columns:\n",
    "        var_names.append(str(col) + '_')\n",
    "    indieframes = {}\n",
    "    for x in range(len(dataframe.columns)):\n",
    "        indieframes['%s' % (var_names[x])] = dataframe[[dataframe.columns[x]]]\n",
    "        \n",
    "    return indieframes"
   ]
  }
 ],
 "metadata": {
  "kernelspec": {
   "display_name": "old-learn-env",
   "language": "python",
   "name": "old-learn-env"
  },
  "language_info": {
   "codemirror_mode": {
    "name": "ipython",
    "version": 3
   },
   "file_extension": ".py",
   "mimetype": "text/x-python",
   "name": "python",
   "nbconvert_exporter": "python",
   "pygments_lexer": "ipython3",
   "version": "3.8.5"
  }
 },
 "nbformat": 4,
 "nbformat_minor": 4
}
